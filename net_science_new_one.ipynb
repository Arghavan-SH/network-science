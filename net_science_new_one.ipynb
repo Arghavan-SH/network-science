{
  "cells": [
    {
      "cell_type": "markdown",
      "id": "8e3fc21e",
      "metadata": {
        "id": "8e3fc21e"
      },
      "source": [
        "## Network Science Project\n",
        "\n"
      ]
    },
    {
      "cell_type": "code",
      "source": [
        "from google.colab import drive\n",
        "drive.mount('/content/drive')"
      ],
      "metadata": {
        "id": "z89h-Vi_LLv4"
      },
      "id": "z89h-Vi_LLv4",
      "execution_count": null,
      "outputs": []
    },
    {
      "cell_type": "code",
      "execution_count": null,
      "id": "e8759f44",
      "metadata": {
        "id": "e8759f44"
      },
      "outputs": [],
      "source": [
        "import os\n",
        "import requests \n",
        "import pandas as pd \n",
        "import time"
      ]
    },
    {
      "cell_type": "code",
      "execution_count": null,
      "id": "f06606c8",
      "metadata": {
        "id": "f06606c8"
      },
      "outputs": [],
      "source": [
        "os.environ['TOKEN'] = \"AAAAAAAAAAAAAAAAAAAAANxrUwEAAAAAFs4Es89FbZJFOZQGf7ABUq9SxzU%3DFZ2fsqYCdnLsaF1wgRiGYBCC3EgNOnKHe1caVHr8EdFh1WPZgw\"\n",
        "\n",
        "def create_headers(bearer_token):\n",
        "    headers = {\"Authorization\": \"Bearer {}\".format(bearer_token)}\n",
        "    return headers\n",
        "\n",
        "headers = create_headers(os.environ['TOKEN'])"
      ]
    },
    {
      "cell_type": "code",
      "metadata": {
        "id": "krWb9m_z_fgF"
      },
      "source": [
        "def create_url(keyword, start_date, end_date, endpoint):\n",
        "    \n",
        "    search_url = endpoint #Change to the endpoint you want to collect data from\n",
        "\n",
        "    #change params based on the endpoint you are using\n",
        "    #also can request different fields\n",
        "    query_params = {'query': keyword,\n",
        "                    'max_results': 100,\n",
        "                    'start_time': start_date,\n",
        "                    'end_time': end_date,\n",
        "                    'expansions': 'author_id,in_reply_to_user_id,geo.place_id',\n",
        "                    'tweet.fields': 'id,text,author_id,in_reply_to_user_id,geo,conversation_id,created_at,lang,public_metrics,referenced_tweets,reply_settings,source,context_annotations,entities',\n",
        "                    'user.fields': 'id,name,username,created_at,description,public_metrics,verified',\n",
        "                    'place.fields': 'full_name,id,country,country_code,geo,name,place_type',\n",
        "                    'pagination_token': {}}\n",
        "    return (search_url, query_params)"
      ],
      "execution_count": null,
      "outputs": [],
      "id": "krWb9m_z_fgF"
    },
    {
      "cell_type": "code",
      "execution_count": null,
      "metadata": {
        "id": "ef5513cb"
      },
      "outputs": [],
      "source": [
        "def connect_to_endpoint(url, headers, params, next_token = None):\n",
        "    print(next_token)\n",
        "    if next_token is not None and next_token != '':\n",
        "      params['next_token'] = next_token\n",
        "    response = requests.request(\"GET\", url, headers = headers, params = params)\n",
        "    if response.status_code != 200:\n",
        "        raise Exception(response.status_code, response.text)\n",
        "    return response.json()"
      ],
      "id": "ef5513cb"
    },
    {
      "cell_type": "code",
      "source": [
        "path = \"/content\""
      ],
      "metadata": {
        "id": "majvbWNq5pgH"
      },
      "id": "majvbWNq5pgH",
      "execution_count": null,
      "outputs": []
    },
    {
      "cell_type": "code",
      "execution_count": null,
      "metadata": {
        "id": "3024b32a"
      },
      "outputs": [],
      "source": [
        "def get_data(keyword, start_time, end_time, next_token, endpoint):\n",
        "  results = []\n",
        "  \n",
        "\n",
        "  while next_token is not None:\n",
        "    try:     \n",
        "      url = create_url(keyword, start_time, end_time, endpoint)\n",
        "      json_response = connect_to_endpoint(url[0], headers, url[1], next_token)\n",
        "\n",
        "      if \"data\" in json_response:\n",
        "        results.extend(json_response[\"data\"])\n",
        "        \n",
        "      if \"meta\" in json_response:\n",
        "        if \"next_token\" in json_response[\"meta\"].keys():\n",
        "          next_token = json_response[\"meta\"][\"next_token\"]\n",
        "          \n",
        "        else:\n",
        "          next_token = None\n",
        "      else:\n",
        "        next_token = None\n",
        "\n",
        "      #uncomment to save by batches - useful if error occurs\n",
        "      print(str(len(results)) + \"Tweets for keyword \" + keyword + \" downloaded in this batch.\")\n",
        "      batch = pd.DataFrame(results)\n",
        "      #batch.to_csv(path + keyword + \"_\" + start_time + end_time + \".csv\", index=False)\n",
        "      batch.to_pickle(path + keyword + \"_\" + start_time + \"_\" + end_time + \".pkl\")\n",
        "      \n",
        "      time.sleep(3)\n",
        "    except Exception as e:\n",
        "      print(\"Error occured\", e)\n",
        "      print(e)\n",
        "    next_token=None\n",
        "  print(\"Done\")\n",
        "  # results.to_csv(path + keyword+ \"_\" + start_time + end_time + \"_full.csv\", index=False)\n",
        "  # results.to_pickle(path + start_time + end_time + \"_full.pkl\")\n",
        "  return (next_token)"
      ],
      "id": "3024b32a"
    },
    {
      "cell_type": "code",
      "source": [
        "query = \"#ukrainewar\"\n",
        "#FOR START AND END TIME THIS IS THE DATE FORMAT 2022-02-01T00:00:00Z (YYYY-MM-DDTHH:mm:ssZ)\n",
        "start_time = \"2022-03-01T00:00:00.000Z\"\n",
        "end_time = \"2022-04-02T00:00:00.000Z\""
      ],
      "metadata": {
        "id": "UGXsQ7LUfAZj"
      },
      "id": "UGXsQ7LUfAZj",
      "execution_count": null,
      "outputs": []
    },
    {
      "cell_type": "code",
      "source": [
        "next_token = get_data(query, start_time=start_time, end_time=end_time, endpoint=\"https://api.twitter.com/2/tweets/search/all\", next_token=\"\")"
      ],
      "metadata": {
        "id": "O1yJlYose7Wt"
      },
      "id": "O1yJlYose7Wt",
      "execution_count": null,
      "outputs": []
    }
  ],
  "metadata": {
    "kernelspec": {
      "display_name": "Python 3",
      "language": "python",
      "name": "python3"
    },
    "language_info": {
      "codemirror_mode": {
        "name": "ipython",
        "version": 3
      },
      "file_extension": ".py",
      "mimetype": "text/x-python",
      "name": "python",
      "nbconvert_exporter": "python",
      "pygments_lexer": "ipython3",
      "version": "3.8.10"
    },
    "colab": {
      "name": "netsci_data.ipynb",
      "provenance": [],
      "collapsed_sections": []
    }
  },
  "nbformat": 4,
  "nbformat_minor": 5
}